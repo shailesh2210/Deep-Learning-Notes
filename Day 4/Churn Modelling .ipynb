{
 "cells": [
  {
   "cell_type": "code",
   "execution_count": 1,
   "id": "701a74a8",
   "metadata": {},
   "outputs": [],
   "source": [
    "import tensorflow as tf"
   ]
  },
  {
   "cell_type": "code",
   "execution_count": 2,
   "id": "7bbe1bd8",
   "metadata": {
    "scrolled": true
   },
   "outputs": [
    {
     "name": "stdout",
     "output_type": "stream",
     "text": [
      "2.10.0\n"
     ]
    }
   ],
   "source": [
    "print(tf.__version__)"
   ]
  },
  {
   "cell_type": "code",
   "execution_count": 3,
   "id": "c65aa9ed",
   "metadata": {},
   "outputs": [],
   "source": [
    "# import some basic libraries\n",
    "import pandas as pd\n",
    "import numpy as np\n",
    "import seaborn as sns\n",
    "import matplotlib.pyplot as plt\n",
    "%matplotlib inline"
   ]
  },
  {
   "cell_type": "code",
   "execution_count": 4,
   "id": "ea358fbb",
   "metadata": {},
   "outputs": [],
   "source": [
    "df = pd.read_csv(\"Churn_Modelling.csv\")"
   ]
  },
  {
   "cell_type": "code",
   "execution_count": 5,
   "id": "dff1a8f0",
   "metadata": {},
   "outputs": [
    {
     "data": {
      "text/html": [
       "<div>\n",
       "<style scoped>\n",
       "    .dataframe tbody tr th:only-of-type {\n",
       "        vertical-align: middle;\n",
       "    }\n",
       "\n",
       "    .dataframe tbody tr th {\n",
       "        vertical-align: top;\n",
       "    }\n",
       "\n",
       "    .dataframe thead th {\n",
       "        text-align: right;\n",
       "    }\n",
       "</style>\n",
       "<table border=\"1\" class=\"dataframe\">\n",
       "  <thead>\n",
       "    <tr style=\"text-align: right;\">\n",
       "      <th></th>\n",
       "      <th>RowNumber</th>\n",
       "      <th>CustomerId</th>\n",
       "      <th>Surname</th>\n",
       "      <th>CreditScore</th>\n",
       "      <th>Geography</th>\n",
       "      <th>Gender</th>\n",
       "      <th>Age</th>\n",
       "      <th>Tenure</th>\n",
       "      <th>Balance</th>\n",
       "      <th>NumOfProducts</th>\n",
       "      <th>HasCrCard</th>\n",
       "      <th>IsActiveMember</th>\n",
       "      <th>EstimatedSalary</th>\n",
       "      <th>Exited</th>\n",
       "    </tr>\n",
       "  </thead>\n",
       "  <tbody>\n",
       "    <tr>\n",
       "      <th>0</th>\n",
       "      <td>1</td>\n",
       "      <td>15634602</td>\n",
       "      <td>Hargrave</td>\n",
       "      <td>619</td>\n",
       "      <td>France</td>\n",
       "      <td>Female</td>\n",
       "      <td>42</td>\n",
       "      <td>2</td>\n",
       "      <td>0.00</td>\n",
       "      <td>1</td>\n",
       "      <td>1</td>\n",
       "      <td>1</td>\n",
       "      <td>101348.88</td>\n",
       "      <td>1</td>\n",
       "    </tr>\n",
       "    <tr>\n",
       "      <th>1</th>\n",
       "      <td>2</td>\n",
       "      <td>15647311</td>\n",
       "      <td>Hill</td>\n",
       "      <td>608</td>\n",
       "      <td>Spain</td>\n",
       "      <td>Female</td>\n",
       "      <td>41</td>\n",
       "      <td>1</td>\n",
       "      <td>83807.86</td>\n",
       "      <td>1</td>\n",
       "      <td>0</td>\n",
       "      <td>1</td>\n",
       "      <td>112542.58</td>\n",
       "      <td>0</td>\n",
       "    </tr>\n",
       "    <tr>\n",
       "      <th>2</th>\n",
       "      <td>3</td>\n",
       "      <td>15619304</td>\n",
       "      <td>Onio</td>\n",
       "      <td>502</td>\n",
       "      <td>France</td>\n",
       "      <td>Female</td>\n",
       "      <td>42</td>\n",
       "      <td>8</td>\n",
       "      <td>159660.80</td>\n",
       "      <td>3</td>\n",
       "      <td>1</td>\n",
       "      <td>0</td>\n",
       "      <td>113931.57</td>\n",
       "      <td>1</td>\n",
       "    </tr>\n",
       "    <tr>\n",
       "      <th>3</th>\n",
       "      <td>4</td>\n",
       "      <td>15701354</td>\n",
       "      <td>Boni</td>\n",
       "      <td>699</td>\n",
       "      <td>France</td>\n",
       "      <td>Female</td>\n",
       "      <td>39</td>\n",
       "      <td>1</td>\n",
       "      <td>0.00</td>\n",
       "      <td>2</td>\n",
       "      <td>0</td>\n",
       "      <td>0</td>\n",
       "      <td>93826.63</td>\n",
       "      <td>0</td>\n",
       "    </tr>\n",
       "    <tr>\n",
       "      <th>4</th>\n",
       "      <td>5</td>\n",
       "      <td>15737888</td>\n",
       "      <td>Mitchell</td>\n",
       "      <td>850</td>\n",
       "      <td>Spain</td>\n",
       "      <td>Female</td>\n",
       "      <td>43</td>\n",
       "      <td>2</td>\n",
       "      <td>125510.82</td>\n",
       "      <td>1</td>\n",
       "      <td>1</td>\n",
       "      <td>1</td>\n",
       "      <td>79084.10</td>\n",
       "      <td>0</td>\n",
       "    </tr>\n",
       "  </tbody>\n",
       "</table>\n",
       "</div>"
      ],
      "text/plain": [
       "   RowNumber  CustomerId   Surname  CreditScore Geography  Gender  Age  \\\n",
       "0          1    15634602  Hargrave          619    France  Female   42   \n",
       "1          2    15647311      Hill          608     Spain  Female   41   \n",
       "2          3    15619304      Onio          502    France  Female   42   \n",
       "3          4    15701354      Boni          699    France  Female   39   \n",
       "4          5    15737888  Mitchell          850     Spain  Female   43   \n",
       "\n",
       "   Tenure    Balance  NumOfProducts  HasCrCard  IsActiveMember  \\\n",
       "0       2       0.00              1          1               1   \n",
       "1       1   83807.86              1          0               1   \n",
       "2       8  159660.80              3          1               0   \n",
       "3       1       0.00              2          0               0   \n",
       "4       2  125510.82              1          1               1   \n",
       "\n",
       "   EstimatedSalary  Exited  \n",
       "0        101348.88       1  \n",
       "1        112542.58       0  \n",
       "2        113931.57       1  \n",
       "3         93826.63       0  \n",
       "4         79084.10       0  "
      ]
     },
     "execution_count": 5,
     "metadata": {},
     "output_type": "execute_result"
    }
   ],
   "source": [
    "df.head()"
   ]
  },
  {
   "cell_type": "code",
   "execution_count": 6,
   "id": "61494bd2",
   "metadata": {},
   "outputs": [],
   "source": [
    "# divide the dataeset independent and dependent features\n",
    "x = df.drop([\"RowNumber\",\"CustomerId\",\"Surname\",\"Exited\"], axis=1)\n",
    "y = df[\"Exited\"]"
   ]
  },
  {
   "cell_type": "code",
   "execution_count": 7,
   "id": "474b62aa",
   "metadata": {},
   "outputs": [
    {
     "data": {
      "text/html": [
       "<div>\n",
       "<style scoped>\n",
       "    .dataframe tbody tr th:only-of-type {\n",
       "        vertical-align: middle;\n",
       "    }\n",
       "\n",
       "    .dataframe tbody tr th {\n",
       "        vertical-align: top;\n",
       "    }\n",
       "\n",
       "    .dataframe thead th {\n",
       "        text-align: right;\n",
       "    }\n",
       "</style>\n",
       "<table border=\"1\" class=\"dataframe\">\n",
       "  <thead>\n",
       "    <tr style=\"text-align: right;\">\n",
       "      <th></th>\n",
       "      <th>CreditScore</th>\n",
       "      <th>Geography</th>\n",
       "      <th>Gender</th>\n",
       "      <th>Age</th>\n",
       "      <th>Tenure</th>\n",
       "      <th>Balance</th>\n",
       "      <th>NumOfProducts</th>\n",
       "      <th>HasCrCard</th>\n",
       "      <th>IsActiveMember</th>\n",
       "      <th>EstimatedSalary</th>\n",
       "    </tr>\n",
       "  </thead>\n",
       "  <tbody>\n",
       "    <tr>\n",
       "      <th>0</th>\n",
       "      <td>619</td>\n",
       "      <td>France</td>\n",
       "      <td>Female</td>\n",
       "      <td>42</td>\n",
       "      <td>2</td>\n",
       "      <td>0.00</td>\n",
       "      <td>1</td>\n",
       "      <td>1</td>\n",
       "      <td>1</td>\n",
       "      <td>101348.88</td>\n",
       "    </tr>\n",
       "    <tr>\n",
       "      <th>1</th>\n",
       "      <td>608</td>\n",
       "      <td>Spain</td>\n",
       "      <td>Female</td>\n",
       "      <td>41</td>\n",
       "      <td>1</td>\n",
       "      <td>83807.86</td>\n",
       "      <td>1</td>\n",
       "      <td>0</td>\n",
       "      <td>1</td>\n",
       "      <td>112542.58</td>\n",
       "    </tr>\n",
       "    <tr>\n",
       "      <th>2</th>\n",
       "      <td>502</td>\n",
       "      <td>France</td>\n",
       "      <td>Female</td>\n",
       "      <td>42</td>\n",
       "      <td>8</td>\n",
       "      <td>159660.80</td>\n",
       "      <td>3</td>\n",
       "      <td>1</td>\n",
       "      <td>0</td>\n",
       "      <td>113931.57</td>\n",
       "    </tr>\n",
       "    <tr>\n",
       "      <th>3</th>\n",
       "      <td>699</td>\n",
       "      <td>France</td>\n",
       "      <td>Female</td>\n",
       "      <td>39</td>\n",
       "      <td>1</td>\n",
       "      <td>0.00</td>\n",
       "      <td>2</td>\n",
       "      <td>0</td>\n",
       "      <td>0</td>\n",
       "      <td>93826.63</td>\n",
       "    </tr>\n",
       "    <tr>\n",
       "      <th>4</th>\n",
       "      <td>850</td>\n",
       "      <td>Spain</td>\n",
       "      <td>Female</td>\n",
       "      <td>43</td>\n",
       "      <td>2</td>\n",
       "      <td>125510.82</td>\n",
       "      <td>1</td>\n",
       "      <td>1</td>\n",
       "      <td>1</td>\n",
       "      <td>79084.10</td>\n",
       "    </tr>\n",
       "  </tbody>\n",
       "</table>\n",
       "</div>"
      ],
      "text/plain": [
       "   CreditScore Geography  Gender  Age  Tenure    Balance  NumOfProducts  \\\n",
       "0          619    France  Female   42       2       0.00              1   \n",
       "1          608     Spain  Female   41       1   83807.86              1   \n",
       "2          502    France  Female   42       8  159660.80              3   \n",
       "3          699    France  Female   39       1       0.00              2   \n",
       "4          850     Spain  Female   43       2  125510.82              1   \n",
       "\n",
       "   HasCrCard  IsActiveMember  EstimatedSalary  \n",
       "0          1               1        101348.88  \n",
       "1          0               1        112542.58  \n",
       "2          1               0        113931.57  \n",
       "3          0               0         93826.63  \n",
       "4          1               1         79084.10  "
      ]
     },
     "execution_count": 7,
     "metadata": {},
     "output_type": "execute_result"
    }
   ],
   "source": [
    "x.head()"
   ]
  },
  {
   "cell_type": "code",
   "execution_count": 8,
   "id": "1f15e072",
   "metadata": {},
   "outputs": [
    {
     "data": {
      "text/plain": [
       "0       1\n",
       "1       0\n",
       "2       1\n",
       "3       0\n",
       "4       0\n",
       "       ..\n",
       "9995    0\n",
       "9996    0\n",
       "9997    1\n",
       "9998    1\n",
       "9999    0\n",
       "Name: Exited, Length: 10000, dtype: int64"
      ]
     },
     "execution_count": 8,
     "metadata": {},
     "output_type": "execute_result"
    }
   ],
   "source": [
    "y"
   ]
  },
  {
   "cell_type": "code",
   "execution_count": 9,
   "id": "64f95ea3",
   "metadata": {},
   "outputs": [],
   "source": [
    "# Feature engineering\n",
    "geo = pd.get_dummies(x[\"Geography\"], drop_first= True)\n",
    "gender = pd.get_dummies(x[\"Gender\"], drop_first = True)"
   ]
  },
  {
   "cell_type": "code",
   "execution_count": 10,
   "id": "0ea189d6",
   "metadata": {},
   "outputs": [],
   "source": [
    "# Concatenate these variable with features\n",
    "x = x.drop([\"Geography\", \"Gender\"], axis=1)"
   ]
  },
  {
   "cell_type": "code",
   "execution_count": 11,
   "id": "055fcdf0",
   "metadata": {},
   "outputs": [
    {
     "data": {
      "text/html": [
       "<div>\n",
       "<style scoped>\n",
       "    .dataframe tbody tr th:only-of-type {\n",
       "        vertical-align: middle;\n",
       "    }\n",
       "\n",
       "    .dataframe tbody tr th {\n",
       "        vertical-align: top;\n",
       "    }\n",
       "\n",
       "    .dataframe thead th {\n",
       "        text-align: right;\n",
       "    }\n",
       "</style>\n",
       "<table border=\"1\" class=\"dataframe\">\n",
       "  <thead>\n",
       "    <tr style=\"text-align: right;\">\n",
       "      <th></th>\n",
       "      <th>CreditScore</th>\n",
       "      <th>Age</th>\n",
       "      <th>Tenure</th>\n",
       "      <th>Balance</th>\n",
       "      <th>NumOfProducts</th>\n",
       "      <th>HasCrCard</th>\n",
       "      <th>IsActiveMember</th>\n",
       "      <th>EstimatedSalary</th>\n",
       "    </tr>\n",
       "  </thead>\n",
       "  <tbody>\n",
       "    <tr>\n",
       "      <th>0</th>\n",
       "      <td>619</td>\n",
       "      <td>42</td>\n",
       "      <td>2</td>\n",
       "      <td>0.00</td>\n",
       "      <td>1</td>\n",
       "      <td>1</td>\n",
       "      <td>1</td>\n",
       "      <td>101348.88</td>\n",
       "    </tr>\n",
       "    <tr>\n",
       "      <th>1</th>\n",
       "      <td>608</td>\n",
       "      <td>41</td>\n",
       "      <td>1</td>\n",
       "      <td>83807.86</td>\n",
       "      <td>1</td>\n",
       "      <td>0</td>\n",
       "      <td>1</td>\n",
       "      <td>112542.58</td>\n",
       "    </tr>\n",
       "    <tr>\n",
       "      <th>2</th>\n",
       "      <td>502</td>\n",
       "      <td>42</td>\n",
       "      <td>8</td>\n",
       "      <td>159660.80</td>\n",
       "      <td>3</td>\n",
       "      <td>1</td>\n",
       "      <td>0</td>\n",
       "      <td>113931.57</td>\n",
       "    </tr>\n",
       "    <tr>\n",
       "      <th>3</th>\n",
       "      <td>699</td>\n",
       "      <td>39</td>\n",
       "      <td>1</td>\n",
       "      <td>0.00</td>\n",
       "      <td>2</td>\n",
       "      <td>0</td>\n",
       "      <td>0</td>\n",
       "      <td>93826.63</td>\n",
       "    </tr>\n",
       "    <tr>\n",
       "      <th>4</th>\n",
       "      <td>850</td>\n",
       "      <td>43</td>\n",
       "      <td>2</td>\n",
       "      <td>125510.82</td>\n",
       "      <td>1</td>\n",
       "      <td>1</td>\n",
       "      <td>1</td>\n",
       "      <td>79084.10</td>\n",
       "    </tr>\n",
       "    <tr>\n",
       "      <th>...</th>\n",
       "      <td>...</td>\n",
       "      <td>...</td>\n",
       "      <td>...</td>\n",
       "      <td>...</td>\n",
       "      <td>...</td>\n",
       "      <td>...</td>\n",
       "      <td>...</td>\n",
       "      <td>...</td>\n",
       "    </tr>\n",
       "    <tr>\n",
       "      <th>9995</th>\n",
       "      <td>771</td>\n",
       "      <td>39</td>\n",
       "      <td>5</td>\n",
       "      <td>0.00</td>\n",
       "      <td>2</td>\n",
       "      <td>1</td>\n",
       "      <td>0</td>\n",
       "      <td>96270.64</td>\n",
       "    </tr>\n",
       "    <tr>\n",
       "      <th>9996</th>\n",
       "      <td>516</td>\n",
       "      <td>35</td>\n",
       "      <td>10</td>\n",
       "      <td>57369.61</td>\n",
       "      <td>1</td>\n",
       "      <td>1</td>\n",
       "      <td>1</td>\n",
       "      <td>101699.77</td>\n",
       "    </tr>\n",
       "    <tr>\n",
       "      <th>9997</th>\n",
       "      <td>709</td>\n",
       "      <td>36</td>\n",
       "      <td>7</td>\n",
       "      <td>0.00</td>\n",
       "      <td>1</td>\n",
       "      <td>0</td>\n",
       "      <td>1</td>\n",
       "      <td>42085.58</td>\n",
       "    </tr>\n",
       "    <tr>\n",
       "      <th>9998</th>\n",
       "      <td>772</td>\n",
       "      <td>42</td>\n",
       "      <td>3</td>\n",
       "      <td>75075.31</td>\n",
       "      <td>2</td>\n",
       "      <td>1</td>\n",
       "      <td>0</td>\n",
       "      <td>92888.52</td>\n",
       "    </tr>\n",
       "    <tr>\n",
       "      <th>9999</th>\n",
       "      <td>792</td>\n",
       "      <td>28</td>\n",
       "      <td>4</td>\n",
       "      <td>130142.79</td>\n",
       "      <td>1</td>\n",
       "      <td>1</td>\n",
       "      <td>0</td>\n",
       "      <td>38190.78</td>\n",
       "    </tr>\n",
       "  </tbody>\n",
       "</table>\n",
       "<p>10000 rows × 8 columns</p>\n",
       "</div>"
      ],
      "text/plain": [
       "      CreditScore  Age  Tenure    Balance  NumOfProducts  HasCrCard  \\\n",
       "0             619   42       2       0.00              1          1   \n",
       "1             608   41       1   83807.86              1          0   \n",
       "2             502   42       8  159660.80              3          1   \n",
       "3             699   39       1       0.00              2          0   \n",
       "4             850   43       2  125510.82              1          1   \n",
       "...           ...  ...     ...        ...            ...        ...   \n",
       "9995          771   39       5       0.00              2          1   \n",
       "9996          516   35      10   57369.61              1          1   \n",
       "9997          709   36       7       0.00              1          0   \n",
       "9998          772   42       3   75075.31              2          1   \n",
       "9999          792   28       4  130142.79              1          1   \n",
       "\n",
       "      IsActiveMember  EstimatedSalary  \n",
       "0                  1        101348.88  \n",
       "1                  1        112542.58  \n",
       "2                  0        113931.57  \n",
       "3                  0         93826.63  \n",
       "4                  1         79084.10  \n",
       "...              ...              ...  \n",
       "9995               0         96270.64  \n",
       "9996               1        101699.77  \n",
       "9997               1         42085.58  \n",
       "9998               0         92888.52  \n",
       "9999               0         38190.78  \n",
       "\n",
       "[10000 rows x 8 columns]"
      ]
     },
     "execution_count": 11,
     "metadata": {},
     "output_type": "execute_result"
    }
   ],
   "source": [
    "x"
   ]
  },
  {
   "cell_type": "code",
   "execution_count": 14,
   "id": "f64a77c3",
   "metadata": {},
   "outputs": [],
   "source": [
    "x = pd.concat([x, geo , gender], axis=1)"
   ]
  },
  {
   "cell_type": "code",
   "execution_count": 15,
   "id": "1250c7c2",
   "metadata": {},
   "outputs": [
    {
     "data": {
      "text/html": [
       "<div>\n",
       "<style scoped>\n",
       "    .dataframe tbody tr th:only-of-type {\n",
       "        vertical-align: middle;\n",
       "    }\n",
       "\n",
       "    .dataframe tbody tr th {\n",
       "        vertical-align: top;\n",
       "    }\n",
       "\n",
       "    .dataframe thead th {\n",
       "        text-align: right;\n",
       "    }\n",
       "</style>\n",
       "<table border=\"1\" class=\"dataframe\">\n",
       "  <thead>\n",
       "    <tr style=\"text-align: right;\">\n",
       "      <th></th>\n",
       "      <th>CreditScore</th>\n",
       "      <th>Age</th>\n",
       "      <th>Tenure</th>\n",
       "      <th>Balance</th>\n",
       "      <th>NumOfProducts</th>\n",
       "      <th>HasCrCard</th>\n",
       "      <th>IsActiveMember</th>\n",
       "      <th>EstimatedSalary</th>\n",
       "      <th>Germany</th>\n",
       "      <th>Spain</th>\n",
       "      <th>Male</th>\n",
       "    </tr>\n",
       "  </thead>\n",
       "  <tbody>\n",
       "    <tr>\n",
       "      <th>0</th>\n",
       "      <td>619</td>\n",
       "      <td>42</td>\n",
       "      <td>2</td>\n",
       "      <td>0.00</td>\n",
       "      <td>1</td>\n",
       "      <td>1</td>\n",
       "      <td>1</td>\n",
       "      <td>101348.88</td>\n",
       "      <td>0</td>\n",
       "      <td>0</td>\n",
       "      <td>0</td>\n",
       "    </tr>\n",
       "    <tr>\n",
       "      <th>1</th>\n",
       "      <td>608</td>\n",
       "      <td>41</td>\n",
       "      <td>1</td>\n",
       "      <td>83807.86</td>\n",
       "      <td>1</td>\n",
       "      <td>0</td>\n",
       "      <td>1</td>\n",
       "      <td>112542.58</td>\n",
       "      <td>0</td>\n",
       "      <td>1</td>\n",
       "      <td>0</td>\n",
       "    </tr>\n",
       "    <tr>\n",
       "      <th>2</th>\n",
       "      <td>502</td>\n",
       "      <td>42</td>\n",
       "      <td>8</td>\n",
       "      <td>159660.80</td>\n",
       "      <td>3</td>\n",
       "      <td>1</td>\n",
       "      <td>0</td>\n",
       "      <td>113931.57</td>\n",
       "      <td>0</td>\n",
       "      <td>0</td>\n",
       "      <td>0</td>\n",
       "    </tr>\n",
       "    <tr>\n",
       "      <th>3</th>\n",
       "      <td>699</td>\n",
       "      <td>39</td>\n",
       "      <td>1</td>\n",
       "      <td>0.00</td>\n",
       "      <td>2</td>\n",
       "      <td>0</td>\n",
       "      <td>0</td>\n",
       "      <td>93826.63</td>\n",
       "      <td>0</td>\n",
       "      <td>0</td>\n",
       "      <td>0</td>\n",
       "    </tr>\n",
       "    <tr>\n",
       "      <th>4</th>\n",
       "      <td>850</td>\n",
       "      <td>43</td>\n",
       "      <td>2</td>\n",
       "      <td>125510.82</td>\n",
       "      <td>1</td>\n",
       "      <td>1</td>\n",
       "      <td>1</td>\n",
       "      <td>79084.10</td>\n",
       "      <td>0</td>\n",
       "      <td>1</td>\n",
       "      <td>0</td>\n",
       "    </tr>\n",
       "    <tr>\n",
       "      <th>...</th>\n",
       "      <td>...</td>\n",
       "      <td>...</td>\n",
       "      <td>...</td>\n",
       "      <td>...</td>\n",
       "      <td>...</td>\n",
       "      <td>...</td>\n",
       "      <td>...</td>\n",
       "      <td>...</td>\n",
       "      <td>...</td>\n",
       "      <td>...</td>\n",
       "      <td>...</td>\n",
       "    </tr>\n",
       "    <tr>\n",
       "      <th>9995</th>\n",
       "      <td>771</td>\n",
       "      <td>39</td>\n",
       "      <td>5</td>\n",
       "      <td>0.00</td>\n",
       "      <td>2</td>\n",
       "      <td>1</td>\n",
       "      <td>0</td>\n",
       "      <td>96270.64</td>\n",
       "      <td>0</td>\n",
       "      <td>0</td>\n",
       "      <td>1</td>\n",
       "    </tr>\n",
       "    <tr>\n",
       "      <th>9996</th>\n",
       "      <td>516</td>\n",
       "      <td>35</td>\n",
       "      <td>10</td>\n",
       "      <td>57369.61</td>\n",
       "      <td>1</td>\n",
       "      <td>1</td>\n",
       "      <td>1</td>\n",
       "      <td>101699.77</td>\n",
       "      <td>0</td>\n",
       "      <td>0</td>\n",
       "      <td>1</td>\n",
       "    </tr>\n",
       "    <tr>\n",
       "      <th>9997</th>\n",
       "      <td>709</td>\n",
       "      <td>36</td>\n",
       "      <td>7</td>\n",
       "      <td>0.00</td>\n",
       "      <td>1</td>\n",
       "      <td>0</td>\n",
       "      <td>1</td>\n",
       "      <td>42085.58</td>\n",
       "      <td>0</td>\n",
       "      <td>0</td>\n",
       "      <td>0</td>\n",
       "    </tr>\n",
       "    <tr>\n",
       "      <th>9998</th>\n",
       "      <td>772</td>\n",
       "      <td>42</td>\n",
       "      <td>3</td>\n",
       "      <td>75075.31</td>\n",
       "      <td>2</td>\n",
       "      <td>1</td>\n",
       "      <td>0</td>\n",
       "      <td>92888.52</td>\n",
       "      <td>1</td>\n",
       "      <td>0</td>\n",
       "      <td>1</td>\n",
       "    </tr>\n",
       "    <tr>\n",
       "      <th>9999</th>\n",
       "      <td>792</td>\n",
       "      <td>28</td>\n",
       "      <td>4</td>\n",
       "      <td>130142.79</td>\n",
       "      <td>1</td>\n",
       "      <td>1</td>\n",
       "      <td>0</td>\n",
       "      <td>38190.78</td>\n",
       "      <td>0</td>\n",
       "      <td>0</td>\n",
       "      <td>0</td>\n",
       "    </tr>\n",
       "  </tbody>\n",
       "</table>\n",
       "<p>10000 rows × 11 columns</p>\n",
       "</div>"
      ],
      "text/plain": [
       "      CreditScore  Age  Tenure    Balance  NumOfProducts  HasCrCard  \\\n",
       "0             619   42       2       0.00              1          1   \n",
       "1             608   41       1   83807.86              1          0   \n",
       "2             502   42       8  159660.80              3          1   \n",
       "3             699   39       1       0.00              2          0   \n",
       "4             850   43       2  125510.82              1          1   \n",
       "...           ...  ...     ...        ...            ...        ...   \n",
       "9995          771   39       5       0.00              2          1   \n",
       "9996          516   35      10   57369.61              1          1   \n",
       "9997          709   36       7       0.00              1          0   \n",
       "9998          772   42       3   75075.31              2          1   \n",
       "9999          792   28       4  130142.79              1          1   \n",
       "\n",
       "      IsActiveMember  EstimatedSalary  Germany  Spain  Male  \n",
       "0                  1        101348.88        0      0     0  \n",
       "1                  1        112542.58        0      1     0  \n",
       "2                  0        113931.57        0      0     0  \n",
       "3                  0         93826.63        0      0     0  \n",
       "4                  1         79084.10        0      1     0  \n",
       "...              ...              ...      ...    ...   ...  \n",
       "9995               0         96270.64        0      0     1  \n",
       "9996               1        101699.77        0      0     1  \n",
       "9997               1         42085.58        0      0     0  \n",
       "9998               0         92888.52        1      0     1  \n",
       "9999               0         38190.78        0      0     0  \n",
       "\n",
       "[10000 rows x 11 columns]"
      ]
     },
     "execution_count": 15,
     "metadata": {},
     "output_type": "execute_result"
    }
   ],
   "source": [
    "x"
   ]
  },
  {
   "cell_type": "code",
   "execution_count": 16,
   "id": "9fa54948",
   "metadata": {},
   "outputs": [],
   "source": [
    "# splitting into train and test\n",
    "from sklearn.model_selection import train_test_split"
   ]
  },
  {
   "cell_type": "code",
   "execution_count": 18,
   "id": "51051f74",
   "metadata": {},
   "outputs": [],
   "source": [
    "x_train , x_test , y_train , y_test = train_test_split(x , y , test_size=0.3 , random_state=0)"
   ]
  },
  {
   "cell_type": "code",
   "execution_count": 19,
   "id": "0bbc9706",
   "metadata": {},
   "outputs": [],
   "source": [
    "# feature scaling\n",
    "from sklearn.preprocessing import StandardScaler"
   ]
  },
  {
   "cell_type": "code",
   "execution_count": 20,
   "id": "d2ed86a5",
   "metadata": {},
   "outputs": [],
   "source": [
    "sc = StandardScaler()"
   ]
  },
  {
   "cell_type": "code",
   "execution_count": 21,
   "id": "749c8fab",
   "metadata": {},
   "outputs": [],
   "source": [
    "x_train = sc.fit_transform(x_train)\n",
    "x_test = sc.transform(x_test)"
   ]
  },
  {
   "cell_type": "code",
   "execution_count": 22,
   "id": "b6f73758",
   "metadata": {},
   "outputs": [
    {
     "data": {
      "text/plain": [
       "array([[-0.09792126, -0.55759842, -1.03635146, ..., -0.56987189,\n",
       "        -0.5731713 ,  0.92295821],\n",
       "       [-1.12612023,  0.01725942,  0.69700901, ..., -0.56987189,\n",
       "        -0.5731713 ,  0.92295821],\n",
       "       [-0.62230274,  3.5622161 ,  0.00366482, ..., -0.56987189,\n",
       "        -0.5731713 , -1.08347268],\n",
       "       ...,\n",
       "       [ 0.89943174, -0.36597914,  0.00366482, ..., -0.56987189,\n",
       "        -0.5731713 ,  0.92295821],\n",
       "       [-0.62230274, -0.07855022,  1.39035319, ..., -0.56987189,\n",
       "         1.74467913, -1.08347268],\n",
       "       [-0.28299708,  0.87954618, -1.38302356, ...,  1.75478035,\n",
       "        -0.5731713 , -1.08347268]])"
      ]
     },
     "execution_count": 22,
     "metadata": {},
     "output_type": "execute_result"
    }
   ],
   "source": [
    "x_train"
   ]
  },
  {
   "cell_type": "code",
   "execution_count": 23,
   "id": "b9982c0c",
   "metadata": {},
   "outputs": [
    {
     "data": {
      "text/plain": [
       "array([[-0.55032881, -0.36597914,  1.0436811 , ...,  1.75478035,\n",
       "        -0.5731713 , -1.08347268],\n",
       "       [-1.31119605,  0.11306906, -1.03635146, ..., -0.56987189,\n",
       "        -0.5731713 , -1.08347268],\n",
       "       [ 0.57040807,  0.30468834,  1.0436811 , ..., -0.56987189,\n",
       "         1.74467913, -1.08347268],\n",
       "       ...,\n",
       "       [ 0.35448628,  0.11306906, -1.03635146, ..., -0.56987189,\n",
       "        -0.5731713 ,  0.92295821],\n",
       "       [ 0.42646021,  2.89154862,  1.73702529, ..., -0.56987189,\n",
       "        -0.5731713 ,  0.92295821],\n",
       "       [ 0.82745781,  0.97535582, -0.34300727, ...,  1.75478035,\n",
       "        -0.5731713 , -1.08347268]])"
      ]
     },
     "execution_count": 23,
     "metadata": {},
     "output_type": "execute_result"
    }
   ],
   "source": [
    "x_test"
   ]
  },
  {
   "cell_type": "code",
   "execution_count": 24,
   "id": "a21062c0",
   "metadata": {},
   "outputs": [
    {
     "data": {
      "text/plain": [
       "(7000, 11)"
      ]
     },
     "execution_count": 24,
     "metadata": {},
     "output_type": "execute_result"
    }
   ],
   "source": [
    "x_train.shape"
   ]
  },
  {
   "cell_type": "code",
   "execution_count": 25,
   "id": "88d6ba4f",
   "metadata": {},
   "outputs": [
    {
     "data": {
      "text/plain": [
       "(3000, 11)"
      ]
     },
     "execution_count": 25,
     "metadata": {},
     "output_type": "execute_result"
    }
   ],
   "source": [
    "x_test.shape"
   ]
  },
  {
   "cell_type": "code",
   "execution_count": 60,
   "id": "840575b0",
   "metadata": {},
   "outputs": [],
   "source": [
    "# Creating ANN\n",
    "from tensorflow.keras.models import Sequential \n",
    "from tensorflow.keras.layers import Dense  # for creating hidden layer , input layers\n",
    "from tensorflow.keras.layers import LeakyReLU , PReLU , ReLU , ELU   # Activation functions\n",
    "from tensorflow.keras.layers import Dropout  #reduce the overfitting"
   ]
  },
  {
   "cell_type": "code",
   "execution_count": 61,
   "id": "fbcc4fc7",
   "metadata": {},
   "outputs": [],
   "source": [
    "# lets initialize ANN\n",
    "model = Sequential()"
   ]
  },
  {
   "cell_type": "code",
   "execution_count": 62,
   "id": "ab5613a8",
   "metadata": {},
   "outputs": [],
   "source": [
    "# Adding input layer\n",
    "model.add(Dense(units=11 , activation= \"relu\"))"
   ]
  },
  {
   "cell_type": "code",
   "execution_count": 64,
   "id": "0bfed7e7",
   "metadata": {},
   "outputs": [],
   "source": [
    "# first hidden layer\n",
    "model.add(Dense(units=7 , activation=\"relu\"))\n",
    "model.add(Dropout(0.3))"
   ]
  },
  {
   "cell_type": "code",
   "execution_count": 65,
   "id": "e5f52e95",
   "metadata": {},
   "outputs": [],
   "source": [
    "# Second hidden layers\n",
    "model.add(Dense(units=5 , activation=\"relu\"))"
   ]
  },
  {
   "cell_type": "code",
   "execution_count": 66,
   "id": "d762cd08",
   "metadata": {},
   "outputs": [],
   "source": [
    "# Adding the ouput layer\n",
    "model.add(Dense(1, activation = \"sigmoid\"))"
   ]
  },
  {
   "cell_type": "code",
   "execution_count": 67,
   "id": "a2d729c2",
   "metadata": {},
   "outputs": [],
   "source": [
    "model.compile(optimizer=\"adam\", loss=\"binary_crossentropy\", metrics = [\"accuracy\"])"
   ]
  },
  {
   "cell_type": "code",
   "execution_count": 68,
   "id": "3c058554",
   "metadata": {},
   "outputs": [],
   "source": [
    "# Early Stopping\n",
    "early_stopping = tf.keras.callbacks.EarlyStopping(\n",
    "monitor = \"val_loss\",\n",
    "    min_delta = 0.0001,\n",
    "    patience = 20,\n",
    "    verbose = 1,\n",
    "    mode = \"auto\",\n",
    "    baseline = None,\n",
    "    restore_best_weights = False,\n",
    ")"
   ]
  },
  {
   "cell_type": "code",
   "execution_count": 69,
   "id": "d895a394",
   "metadata": {
    "scrolled": false
   },
   "outputs": [
    {
     "name": "stdout",
     "output_type": "stream",
     "text": [
      "Epoch 1/100\n",
      "469/469 [==============================] - 3s 4ms/step - loss: 0.5326 - accuracy: 0.7788 - val_loss: 0.4783 - val_accuracy: 0.7962\n",
      "Epoch 2/100\n",
      "469/469 [==============================] - 2s 3ms/step - loss: 0.4762 - accuracy: 0.7985 - val_loss: 0.4658 - val_accuracy: 0.7962\n",
      "Epoch 3/100\n",
      "469/469 [==============================] - 2s 3ms/step - loss: 0.4663 - accuracy: 0.7985 - val_loss: 0.4532 - val_accuracy: 0.7962\n",
      "Epoch 4/100\n",
      "469/469 [==============================] - 2s 3ms/step - loss: 0.4475 - accuracy: 0.7985 - val_loss: 0.4437 - val_accuracy: 0.7962\n",
      "Epoch 5/100\n",
      "469/469 [==============================] - 2s 4ms/step - loss: 0.4366 - accuracy: 0.7985 - val_loss: 0.4348 - val_accuracy: 0.7962\n",
      "Epoch 6/100\n",
      "469/469 [==============================] - 2s 3ms/step - loss: 0.4264 - accuracy: 0.8017 - val_loss: 0.4257 - val_accuracy: 0.8023\n",
      "Epoch 7/100\n",
      "469/469 [==============================] - 2s 3ms/step - loss: 0.4134 - accuracy: 0.8102 - val_loss: 0.4129 - val_accuracy: 0.8096\n",
      "Epoch 8/100\n",
      "469/469 [==============================] - 2s 4ms/step - loss: 0.3975 - accuracy: 0.8113 - val_loss: 0.4012 - val_accuracy: 0.8105\n",
      "Epoch 9/100\n",
      "469/469 [==============================] - 2s 3ms/step - loss: 0.3890 - accuracy: 0.8140 - val_loss: 0.4003 - val_accuracy: 0.8118\n",
      "Epoch 10/100\n",
      "469/469 [==============================] - 2s 3ms/step - loss: 0.3852 - accuracy: 0.8138 - val_loss: 0.3900 - val_accuracy: 0.8144\n",
      "Epoch 11/100\n",
      "469/469 [==============================] - 2s 4ms/step - loss: 0.3802 - accuracy: 0.8136 - val_loss: 0.3850 - val_accuracy: 0.8165\n",
      "Epoch 12/100\n",
      "469/469 [==============================] - 2s 4ms/step - loss: 0.3772 - accuracy: 0.8157 - val_loss: 0.3849 - val_accuracy: 0.8165\n",
      "Epoch 13/100\n",
      "469/469 [==============================] - 2s 3ms/step - loss: 0.3762 - accuracy: 0.8153 - val_loss: 0.3819 - val_accuracy: 0.8183\n",
      "Epoch 14/100\n",
      "469/469 [==============================] - 2s 4ms/step - loss: 0.3747 - accuracy: 0.8140 - val_loss: 0.3809 - val_accuracy: 0.8170\n",
      "Epoch 15/100\n",
      "469/469 [==============================] - 2s 4ms/step - loss: 0.3710 - accuracy: 0.8383 - val_loss: 0.3796 - val_accuracy: 0.8382\n",
      "Epoch 16/100\n",
      "469/469 [==============================] - 2s 3ms/step - loss: 0.3712 - accuracy: 0.8437 - val_loss: 0.3782 - val_accuracy: 0.8421\n",
      "Epoch 17/100\n",
      "469/469 [==============================] - 2s 3ms/step - loss: 0.3672 - accuracy: 0.8452 - val_loss: 0.3785 - val_accuracy: 0.8438\n",
      "Epoch 18/100\n",
      "469/469 [==============================] - 2s 3ms/step - loss: 0.3666 - accuracy: 0.8443 - val_loss: 0.3767 - val_accuracy: 0.8455\n",
      "Epoch 19/100\n",
      "469/469 [==============================] - 2s 4ms/step - loss: 0.3633 - accuracy: 0.8460 - val_loss: 0.3759 - val_accuracy: 0.8464\n",
      "Epoch 20/100\n",
      "469/469 [==============================] - 2s 3ms/step - loss: 0.3656 - accuracy: 0.8464 - val_loss: 0.3750 - val_accuracy: 0.8481\n",
      "Epoch 21/100\n",
      "469/469 [==============================] - 2s 3ms/step - loss: 0.3634 - accuracy: 0.8494 - val_loss: 0.3738 - val_accuracy: 0.8486\n",
      "Epoch 22/100\n",
      "469/469 [==============================] - 2s 3ms/step - loss: 0.3570 - accuracy: 0.8552 - val_loss: 0.3736 - val_accuracy: 0.8455\n",
      "Epoch 23/100\n",
      "469/469 [==============================] - 2s 4ms/step - loss: 0.3598 - accuracy: 0.8535 - val_loss: 0.3710 - val_accuracy: 0.8516\n",
      "Epoch 24/100\n",
      "469/469 [==============================] - 2s 3ms/step - loss: 0.3611 - accuracy: 0.8543 - val_loss: 0.3708 - val_accuracy: 0.8511\n",
      "Epoch 25/100\n",
      "469/469 [==============================] - 2s 3ms/step - loss: 0.3595 - accuracy: 0.8554 - val_loss: 0.3695 - val_accuracy: 0.8520\n",
      "Epoch 26/100\n",
      "469/469 [==============================] - 2s 4ms/step - loss: 0.3569 - accuracy: 0.8539 - val_loss: 0.3698 - val_accuracy: 0.8520\n",
      "Epoch 27/100\n",
      "469/469 [==============================] - 2s 3ms/step - loss: 0.3554 - accuracy: 0.8531 - val_loss: 0.3705 - val_accuracy: 0.8498\n",
      "Epoch 28/100\n",
      "469/469 [==============================] - 2s 4ms/step - loss: 0.3607 - accuracy: 0.8571 - val_loss: 0.3682 - val_accuracy: 0.8537\n",
      "Epoch 29/100\n",
      "469/469 [==============================] - 2s 4ms/step - loss: 0.3560 - accuracy: 0.8567 - val_loss: 0.3686 - val_accuracy: 0.8520\n",
      "Epoch 30/100\n",
      "469/469 [==============================] - 2s 3ms/step - loss: 0.3532 - accuracy: 0.8558 - val_loss: 0.3678 - val_accuracy: 0.8520\n",
      "Epoch 31/100\n",
      "469/469 [==============================] - 2s 3ms/step - loss: 0.3533 - accuracy: 0.8582 - val_loss: 0.3678 - val_accuracy: 0.8520\n",
      "Epoch 32/100\n",
      "469/469 [==============================] - 2s 3ms/step - loss: 0.3514 - accuracy: 0.8605 - val_loss: 0.3648 - val_accuracy: 0.8529\n",
      "Epoch 33/100\n",
      "469/469 [==============================] - 2s 3ms/step - loss: 0.3534 - accuracy: 0.8599 - val_loss: 0.3656 - val_accuracy: 0.8546\n",
      "Epoch 34/100\n",
      "469/469 [==============================] - 2s 3ms/step - loss: 0.3525 - accuracy: 0.8543 - val_loss: 0.3663 - val_accuracy: 0.8546\n",
      "Epoch 35/100\n",
      "469/469 [==============================] - 2s 4ms/step - loss: 0.3485 - accuracy: 0.8554 - val_loss: 0.3665 - val_accuracy: 0.8524\n",
      "Epoch 36/100\n",
      "469/469 [==============================] - 2s 4ms/step - loss: 0.3508 - accuracy: 0.8560 - val_loss: 0.3661 - val_accuracy: 0.8559\n",
      "Epoch 37/100\n",
      "469/469 [==============================] - 2s 4ms/step - loss: 0.3475 - accuracy: 0.8546 - val_loss: 0.3653 - val_accuracy: 0.8537\n",
      "Epoch 38/100\n",
      "469/469 [==============================] - 2s 4ms/step - loss: 0.3486 - accuracy: 0.8573 - val_loss: 0.3635 - val_accuracy: 0.8537\n",
      "Epoch 39/100\n",
      "469/469 [==============================] - 2s 4ms/step - loss: 0.3428 - accuracy: 0.8580 - val_loss: 0.3621 - val_accuracy: 0.8542\n",
      "Epoch 40/100\n",
      "469/469 [==============================] - 2s 4ms/step - loss: 0.3503 - accuracy: 0.8580 - val_loss: 0.3676 - val_accuracy: 0.8516\n",
      "Epoch 41/100\n",
      "469/469 [==============================] - 2s 4ms/step - loss: 0.3479 - accuracy: 0.8582 - val_loss: 0.3624 - val_accuracy: 0.8533\n",
      "Epoch 42/100\n",
      "469/469 [==============================] - 2s 3ms/step - loss: 0.3476 - accuracy: 0.8578 - val_loss: 0.3682 - val_accuracy: 0.8546\n",
      "Epoch 43/100\n",
      "469/469 [==============================] - 2s 3ms/step - loss: 0.3473 - accuracy: 0.8571 - val_loss: 0.3655 - val_accuracy: 0.8555\n",
      "Epoch 44/100\n",
      "469/469 [==============================] - 2s 4ms/step - loss: 0.3441 - accuracy: 0.8603 - val_loss: 0.3629 - val_accuracy: 0.8550\n",
      "Epoch 45/100\n",
      "469/469 [==============================] - 2s 5ms/step - loss: 0.3455 - accuracy: 0.8614 - val_loss: 0.3627 - val_accuracy: 0.8546\n",
      "Epoch 46/100\n",
      "469/469 [==============================] - 2s 4ms/step - loss: 0.3431 - accuracy: 0.8620 - val_loss: 0.3660 - val_accuracy: 0.8542\n",
      "Epoch 47/100\n",
      "469/469 [==============================] - 2s 4ms/step - loss: 0.3422 - accuracy: 0.8627 - val_loss: 0.3674 - val_accuracy: 0.8559\n",
      "Epoch 48/100\n",
      "469/469 [==============================] - 2s 4ms/step - loss: 0.3451 - accuracy: 0.8588 - val_loss: 0.3685 - val_accuracy: 0.8511\n",
      "Epoch 49/100\n",
      "469/469 [==============================] - 2s 4ms/step - loss: 0.3413 - accuracy: 0.8607 - val_loss: 0.3674 - val_accuracy: 0.8533\n",
      "Epoch 50/100\n",
      "469/469 [==============================] - 2s 4ms/step - loss: 0.3425 - accuracy: 0.8580 - val_loss: 0.3627 - val_accuracy: 0.8529\n",
      "Epoch 51/100\n",
      "469/469 [==============================] - 2s 4ms/step - loss: 0.3400 - accuracy: 0.8642 - val_loss: 0.3645 - val_accuracy: 0.8524\n",
      "Epoch 52/100\n",
      "469/469 [==============================] - 2s 4ms/step - loss: 0.3436 - accuracy: 0.8601 - val_loss: 0.3671 - val_accuracy: 0.8533\n",
      "Epoch 53/100\n",
      "469/469 [==============================] - 2s 3ms/step - loss: 0.3421 - accuracy: 0.8620 - val_loss: 0.3626 - val_accuracy: 0.8542\n",
      "Epoch 54/100\n",
      "469/469 [==============================] - 2s 3ms/step - loss: 0.3389 - accuracy: 0.8631 - val_loss: 0.3637 - val_accuracy: 0.8511\n",
      "Epoch 55/100\n",
      "469/469 [==============================] - 2s 3ms/step - loss: 0.3417 - accuracy: 0.8571 - val_loss: 0.3624 - val_accuracy: 0.8533\n",
      "Epoch 56/100\n",
      "469/469 [==============================] - 2s 4ms/step - loss: 0.3408 - accuracy: 0.8637 - val_loss: 0.3635 - val_accuracy: 0.8542\n",
      "Epoch 57/100\n",
      "469/469 [==============================] - 2s 4ms/step - loss: 0.3431 - accuracy: 0.8624 - val_loss: 0.3626 - val_accuracy: 0.8546\n"
     ]
    },
    {
     "name": "stdout",
     "output_type": "stream",
     "text": [
      "Epoch 58/100\n",
      "469/469 [==============================] - 2s 4ms/step - loss: 0.3402 - accuracy: 0.8586 - val_loss: 0.3623 - val_accuracy: 0.8546\n",
      "Epoch 59/100\n",
      "469/469 [==============================] - 2s 3ms/step - loss: 0.3393 - accuracy: 0.8588 - val_loss: 0.3637 - val_accuracy: 0.8533\n",
      "Epoch 59: early stopping\n"
     ]
    }
   ],
   "source": [
    "model_history = model.fit(x_train , y_train , validation_split=0.33 , batch_size = 10 , epochs = 100 , callbacks=early_stopping)"
   ]
  },
  {
   "cell_type": "code",
   "execution_count": 70,
   "id": "a7f260b6",
   "metadata": {},
   "outputs": [
    {
     "data": {
      "text/plain": [
       "dict_keys(['loss', 'accuracy', 'val_loss', 'val_accuracy'])"
      ]
     },
     "execution_count": 70,
     "metadata": {},
     "output_type": "execute_result"
    }
   ],
   "source": [
    "model_history.history.keys()"
   ]
  },
  {
   "cell_type": "code",
   "execution_count": 71,
   "id": "e1bc6db2",
   "metadata": {},
   "outputs": [
    {
     "data": {
      "image/png": "[encoded data removed]",
      "text/plain": [
       "<Figure size 432x288 with 1 Axes>"
      ]
     },
     "metadata": {
      "needs_background": "light"
     },
     "output_type": "display_data"
    }
   ],
   "source": [
    "plt.plot(model_history.history[\"accuracy\"])\n",
    "plt.plot(model_history.history[\"val_accuracy\"])\n",
    "plt.title(\"Model Accuracy\")\n",
    "plt.ylabel(\"Accuray\")\n",
    "plt.xlabel(\"Epoch\")\n",
    "plt.legend([\"train\" , \"test\"])\n",
    "plt.show()"
   ]
  },
  {
   "cell_type": "code",
   "execution_count": 72,
   "id": "f6297364",
   "metadata": {},
   "outputs": [
    {
     "data": {
      "image/png": "[encoded data removed]",
      "text/plain": [
       "<Figure size 432x288 with 1 Axes>"
      ]
     },
     "metadata": {
      "needs_background": "light"
     },
     "output_type": "display_data"
    }
   ],
   "source": [
    "plt.plot(model_history.history[\"loss\"])\n",
    "plt.plot(model_history.history[\"val_loss\"])\n",
    "plt.title(\"Model Accuracy\")\n",
    "plt.ylabel(\"loss\")\n",
    "plt.xlabel(\"Epoch\")\n",
    "plt.legend([\"train\" , \"test\"])\n",
    "plt.show()"
   ]
  },
  {
   "cell_type": "code",
   "execution_count": 73,
   "id": "2ebefc67",
   "metadata": {},
   "outputs": [
    {
     "name": "stdout",
     "output_type": "stream",
     "text": [
      "94/94 [==============================] - 0s 2ms/step\n"
     ]
    }
   ],
   "source": [
    "# Making the prediction\n",
    "y_pred = model.predict(x_test)\n",
    "y_pred = (y_pred >= 0.5)"
   ]
  },
  {
   "cell_type": "code",
   "execution_count": 74,
   "id": "0cf49b4c",
   "metadata": {},
   "outputs": [],
   "source": [
    "# confusion metrix\n",
    "from sklearn.metrics import confusion_matrix"
   ]
  },
  {
   "cell_type": "code",
   "execution_count": 75,
   "id": "c1cc4bd9",
   "metadata": {},
   "outputs": [],
   "source": [
    "cm = confusion_matrix(y_test , y_pred)"
   ]
  },
  {
   "cell_type": "code",
   "execution_count": 76,
   "id": "43976c11",
   "metadata": {},
   "outputs": [
    {
     "data": {
      "text/plain": [
       "array([[2224,  155],\n",
       "       [ 289,  332]], dtype=int64)"
      ]
     },
     "execution_count": 76,
     "metadata": {},
     "output_type": "execute_result"
    }
   ],
   "source": [
    "cm"
   ]
  },
  {
   "cell_type": "code",
   "execution_count": 77,
   "id": "3915b4fd",
   "metadata": {},
   "outputs": [],
   "source": [
    "# calculate accuracy\n",
    "from sklearn.metrics import accuracy_score"
   ]
  },
  {
   "cell_type": "code",
   "execution_count": 78,
   "id": "f974342a",
   "metadata": {},
   "outputs": [],
   "source": [
    "score = accuracy_score(y_test , y_pred)"
   ]
  },
  {
   "cell_type": "code",
   "execution_count": 79,
   "id": "2513b2bb",
   "metadata": {},
   "outputs": [
    {
     "data": {
      "text/plain": [
       "0.852"
      ]
     },
     "execution_count": 79,
     "metadata": {},
     "output_type": "execute_result"
    }
   ],
   "source": [
    "score"
   ]
  },
  {
   "cell_type": "code",
   "execution_count": 80,
   "id": "4ee2c85f",
   "metadata": {
    "scrolled": false
   },
   "outputs": [
    {
     "data": {
      "text/plain": [
       "[array([[-0.06207581,  0.1543912 , -0.07282237, -0.36287773,  0.14074649,\n",
       "          0.21742652,  0.04104239,  0.6196649 , -0.12084254,  0.3104821 ,\n",
       "         -0.38502294],\n",
       "        [-0.27701125, -0.2361991 ,  0.33215907,  0.32696477,  0.25387287,\n",
       "          0.40722412, -0.98834944, -0.33398208,  0.22266166, -0.7482427 ,\n",
       "         -0.4420686 ],\n",
       "        [ 0.06324612,  0.53086984,  0.14213262,  0.11896353,  0.32242662,\n",
       "          0.00375807,  0.10395912,  0.10353703,  0.21787263,  0.03516945,\n",
       "         -0.1329173 ],\n",
       "        [ 0.08306366, -0.3571706 ,  0.04147906, -0.2587485 , -0.5497964 ,\n",
       "          0.11226451, -0.23335132,  0.5290066 , -1.0305221 , -0.19612269,\n",
       "          0.06497464],\n",
       "        [ 0.7180219 , -0.00294954,  1.1102393 ,  0.04229923,  0.05623565,\n",
       "         -0.11797877,  0.179546  ,  0.42660117, -1.4487716 ,  0.15959862,\n",
       "          0.09924582],\n",
       "        [ 0.0459892 , -0.10336382, -0.17141595, -0.8355672 ,  0.45135394,\n",
       "          0.21787958, -0.13169965, -0.21943143, -0.12607415, -0.35023823,\n",
       "          0.6652845 ],\n",
       "        [-0.02374691, -0.19319123, -0.0275312 ,  0.58826935,  0.5219926 ,\n",
       "          0.8433747 , -0.40511352,  0.13246669, -0.07200258,  0.16050619,\n",
       "          0.24687873],\n",
       "        [ 0.02030691, -0.36824796,  0.01658172, -0.3548215 , -0.01813891,\n",
       "         -0.00519677, -0.06094934, -0.54533875,  0.04047542,  0.21515734,\n",
       "         -0.09141761],\n",
       "        [-0.06698055, -0.35894158, -0.11004833, -0.13935263, -0.23799779,\n",
       "          0.3861948 , -0.07610544, -0.07829016,  0.56430584,  0.2002614 ,\n",
       "         -0.15058653],\n",
       "        [-0.00851851,  0.17729385,  0.16322376,  0.24188937,  0.1810309 ,\n",
       "         -0.06901518, -0.14839512, -0.43380004, -0.01259189, -0.23451677,\n",
       "         -0.5799699 ],\n",
       "        [ 0.09587141, -0.00203203, -0.09342225,  0.09729753,  0.40813693,\n",
       "         -0.1718458 , -0.07152025,  0.17928302, -0.08639298,  0.48800063,\n",
       "          0.0868202 ]], dtype=float32),\n",
       " array([-0.7540257 , -0.1560696 , -0.9642535 , -0.35131726,  0.40127155,\n",
       "         0.03190234,  1.2158931 , -0.26067972, -0.09768132,  0.5594782 ,\n",
       "        -0.26918304], dtype=float32),\n",
       " array([[ 0.06817185, -0.74556446, -0.7911062 , -1.5039812 , -0.51961946,\n",
       "         -0.45928642, -0.04397891],\n",
       "        [ 0.4949754 , -0.14817204,  0.36062548, -0.0180992 ,  0.17919071,\n",
       "          0.00203452, -0.5527577 ],\n",
       "        [-0.8906386 , -0.6426675 , -0.36211923, -0.83894295, -0.8443386 ,\n",
       "         -0.73236513,  1.0392196 ],\n",
       "        [ 0.3091799 ,  0.3826023 ,  0.37536952,  0.52223927,  0.38256633,\n",
       "          0.2770833 , -0.28314617],\n",
       "        [ 0.4221534 ,  0.47174165,  0.51969695,  0.7457742 ,  0.36671275,\n",
       "          0.44715682, -0.44457135],\n",
       "        [ 0.27347285,  0.30704606,  0.16964962,  0.4949009 ,  0.28768513,\n",
       "          0.24667777, -0.3859816 ],\n",
       "        [ 0.28041857,  0.72264963,  0.27454492,  1.0817757 ,  0.48349068,\n",
       "          0.6146508 , -0.3007101 ],\n",
       "        [-0.19166937, -0.08710517, -0.3097159 , -0.234076  , -0.4130888 ,\n",
       "         -0.22385567,  0.19007124],\n",
       "        [-0.81472707, -0.4002634 , -0.9955271 , -0.84901565, -0.829052  ,\n",
       "         -0.40748477,  0.2661115 ],\n",
       "        [ 0.24566717,  0.18912739,  0.22216491,  0.3736275 ,  0.47180337,\n",
       "          0.34677738, -0.09421454],\n",
       "        [ 0.17794782,  0.22895505,  0.4130918 ,  0.38881686,  0.56160456,\n",
       "          0.2705269 ,  0.18080662]], dtype=float32),\n",
       " array([ 0.1578264 , -0.07098044,  0.00422569,  0.20356254,  0.14587498,\n",
       "         0.02242401, -0.04134814], dtype=float32),\n",
       " array([[ 0.46647123,  0.2634855 ,  0.44560853, -0.02916288,  0.83332103],\n",
       "        [ 0.4094206 ,  0.24747613,  0.52004576, -0.12834783,  0.61817205],\n",
       "        [ 0.9919129 ,  0.16972981,  0.42290705, -0.5911728 , -0.04913793],\n",
       "        [ 0.7435097 , -0.07134432,  0.00527197, -0.10111122, -1.0366809 ],\n",
       "        [ 0.6453634 ,  0.2536646 ,  0.5050317 , -0.13370897,  0.23280394],\n",
       "        [ 0.43836018,  0.19008416,  0.5393441 ,  0.01429297,  0.63922524],\n",
       "        [-0.01574454,  0.91182363,  0.97740364,  1.2852892 , -0.05037176]],\n",
       "       dtype=float32),\n",
       " array([ 0.00294377, -0.6830707 , -1.2031955 , -0.1120965 ,  0.0181223 ],\n",
       "       dtype=float32),\n",
       " array([[-0.7303195 ],\n",
       "        [ 0.67491645],\n",
       "        [ 0.5551723 ],\n",
       "        [ 1.3897061 ],\n",
       "        [-0.70757294]], dtype=float32),\n",
       " array([0.81142646], dtype=float32)]"
      ]
     },
     "execution_count": 80,
     "metadata": {},
     "output_type": "execute_result"
    }
   ],
   "source": [
    "# getting the weights\n",
    "model.get_weights()"
   ]
  },
  {
   "cell_type": "code",
   "execution_count": null,
   "id": "3b1be696",
   "metadata": {},
   "outputs": [],
   "source": []
  }
 ],
 "metadata": {
  "kernelspec": {
   "display_name": "Python 3",
   "language": "python",
   "name": "python3"
  },
  "language_info": {
   "codemirror_mode": {
    "name": "ipython",
    "version": 3
   },
   "file_extension": ".py",
   "mimetype": "text/x-python",
   "name": "python",
   "nbconvert_exporter": "python",
   "pygments_lexer": "ipython3",
   "version": "3.8.8"
  }
 },
 "nbformat": 4,
 "nbformat_minor": 5
}
